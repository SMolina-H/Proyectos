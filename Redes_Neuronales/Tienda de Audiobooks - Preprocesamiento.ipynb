{
 "cells": [
  {
   "cell_type": "markdown",
   "metadata": {},
   "source": [
    "# Tienda de audiolibros"
   ]
  },
  {
   "cell_type": "markdown",
   "metadata": {},
   "source": [
    "## Problema\n",
    "\n",
    "Este problema trata sobre predecir si un cliente volverá a realizar una compra en una tienda de audiolibros en base a su comportamiento histórico con la tienda.\n",
    "\n",
    "Para lo anterior se cuenta con una base de datos que cuenta con 2 años de recolección de datos de cada cliente, y para ver si un cliente volvió a comprar en la tienda se utilizaron 6 meses adicionales de observación.\n",
    "\n",
    "La base de datos cuenta con la siguiente informacion de cada cliente:\n",
    "<ul>\n",
    "    <li>ID de cliente</li>\n",
    "<li>Suma de duración en minutos de todos sus libros</li>\n",
    "\n",
    "<li>Duracion promedio de cada libro</li>\n",
    "\n",
    "<li>Suma de dinero total pagada por todos los libros</li>\n",
    "\n",
    "<li>Precio promedio pagado por cada libro</li>\n",
    "\n",
    "<li>Review(1 si el cliente dejó review, 0 en caso contrario)</li>\n",
    "\n",
    "<li>Nota de review promedio de libros (escala de 1 al 10)</li>\n",
    "\n",
    "<li>Minutos totales escuchados</li>\n",
    "\n",
    "<li>Porcentaje completado del último libro</li>\n",
    "\n",
    "<li>Tiempo transcurrido desde la primera compra y última vez que abrió el libro</li>\n",
    "    \n",
    "<li>Target (1 si compró en los ultimos 6 meses, 0 en caso contrario) ------------ Variable a predecir</li>\n",
    " \n",
    "</ul>\n",
    "\n",
    "En este proyecto se construye un algoritmo de Machine Learning utilizando Redes Neuronales capáz de predecir si un cliente volverá a comprar durante los próximos 6 meses."
   ]
  },
  {
   "cell_type": "markdown",
   "metadata": {},
   "source": [
    "## Preprocesamiento de los datos"
   ]
  },
  {
   "cell_type": "markdown",
   "metadata": {},
   "source": [
    "### Importando las librerías relevantes"
   ]
  },
  {
   "cell_type": "code",
   "execution_count": 1,
   "metadata": {},
   "outputs": [],
   "source": [
    "import numpy as np\n",
    "import pandas as pd\n",
    "from sklearn import preprocessing"
   ]
  },
  {
   "cell_type": "code",
   "execution_count": 2,
   "metadata": {},
   "outputs": [
    {
     "data": {
      "text/html": [
       "<div>\n",
       "<style scoped>\n",
       "    .dataframe tbody tr th:only-of-type {\n",
       "        vertical-align: middle;\n",
       "    }\n",
       "\n",
       "    .dataframe tbody tr th {\n",
       "        vertical-align: top;\n",
       "    }\n",
       "\n",
       "    .dataframe thead th {\n",
       "        text-align: right;\n",
       "    }\n",
       "</style>\n",
       "<table border=\"1\" class=\"dataframe\">\n",
       "  <thead>\n",
       "    <tr style=\"text-align: right;\">\n",
       "      <th></th>\n",
       "      <th>ID</th>\n",
       "      <th>Book length (mins)_overall</th>\n",
       "      <th>Book length (mins)_avg</th>\n",
       "      <th>Price_overall</th>\n",
       "      <th>Price_avg</th>\n",
       "      <th>Review</th>\n",
       "      <th>Review 10/10</th>\n",
       "      <th>Minutes listened</th>\n",
       "      <th>Completion</th>\n",
       "      <th>Support Requests</th>\n",
       "      <th>Last visited minus Purchase date</th>\n",
       "      <th>Targets</th>\n",
       "    </tr>\n",
       "  </thead>\n",
       "  <tbody>\n",
       "    <tr>\n",
       "      <th>0</th>\n",
       "      <td>873</td>\n",
       "      <td>2160</td>\n",
       "      <td>2160</td>\n",
       "      <td>10.13</td>\n",
       "      <td>10.13</td>\n",
       "      <td>0</td>\n",
       "      <td>8.91</td>\n",
       "      <td>0.0</td>\n",
       "      <td>0.0</td>\n",
       "      <td>0</td>\n",
       "      <td>0</td>\n",
       "      <td>1</td>\n",
       "    </tr>\n",
       "    <tr>\n",
       "      <th>1</th>\n",
       "      <td>611</td>\n",
       "      <td>1404</td>\n",
       "      <td>2808</td>\n",
       "      <td>6.66</td>\n",
       "      <td>13.33</td>\n",
       "      <td>1</td>\n",
       "      <td>6.50</td>\n",
       "      <td>0.0</td>\n",
       "      <td>0.0</td>\n",
       "      <td>0</td>\n",
       "      <td>182</td>\n",
       "      <td>1</td>\n",
       "    </tr>\n",
       "    <tr>\n",
       "      <th>2</th>\n",
       "      <td>705</td>\n",
       "      <td>324</td>\n",
       "      <td>324</td>\n",
       "      <td>10.13</td>\n",
       "      <td>10.13</td>\n",
       "      <td>1</td>\n",
       "      <td>9.00</td>\n",
       "      <td>0.0</td>\n",
       "      <td>0.0</td>\n",
       "      <td>1</td>\n",
       "      <td>334</td>\n",
       "      <td>1</td>\n",
       "    </tr>\n",
       "    <tr>\n",
       "      <th>3</th>\n",
       "      <td>391</td>\n",
       "      <td>1620</td>\n",
       "      <td>1620</td>\n",
       "      <td>15.31</td>\n",
       "      <td>15.31</td>\n",
       "      <td>0</td>\n",
       "      <td>9.00</td>\n",
       "      <td>0.0</td>\n",
       "      <td>0.0</td>\n",
       "      <td>0</td>\n",
       "      <td>183</td>\n",
       "      <td>1</td>\n",
       "    </tr>\n",
       "    <tr>\n",
       "      <th>4</th>\n",
       "      <td>819</td>\n",
       "      <td>432</td>\n",
       "      <td>1296</td>\n",
       "      <td>7.11</td>\n",
       "      <td>21.33</td>\n",
       "      <td>1</td>\n",
       "      <td>9.00</td>\n",
       "      <td>0.0</td>\n",
       "      <td>0.0</td>\n",
       "      <td>0</td>\n",
       "      <td>0</td>\n",
       "      <td>1</td>\n",
       "    </tr>\n",
       "  </tbody>\n",
       "</table>\n",
       "</div>"
      ],
      "text/plain": [
       "    ID Book length (mins)_overall  Book length (mins)_avg  Price_overall  \\\n",
       "0  873                       2160                    2160          10.13   \n",
       "1  611                       1404                    2808           6.66   \n",
       "2  705                        324                     324          10.13   \n",
       "3  391                       1620                    1620          15.31   \n",
       "4  819                        432                    1296           7.11   \n",
       "\n",
       "   Price_avg  Review  Review 10/10  Minutes listened  Completion  \\\n",
       "0      10.13       0          8.91               0.0         0.0   \n",
       "1      13.33       1          6.50               0.0         0.0   \n",
       "2      10.13       1          9.00               0.0         0.0   \n",
       "3      15.31       0          9.00               0.0         0.0   \n",
       "4      21.33       1          9.00               0.0         0.0   \n",
       "\n",
       "   Support Requests  Last visited minus Purchase date  Targets  \n",
       "0                 0                                 0        1  \n",
       "1                 0                               182        1  \n",
       "2                 1                               334        1  \n",
       "3                 0                               183        1  \n",
       "4                 0                                 0        1  "
      ]
     },
     "execution_count": 2,
     "metadata": {},
     "output_type": "execute_result"
    }
   ],
   "source": [
    "# Utilizaremos datos sin encabezados para trabajar con nuestro problema.\n",
    "datos_primarios = np.loadtxt('Audiobooks_data.csv',delimiter=',')\n",
    "\n",
    "# Utilizaremos datos con encabezados para hacerse una idea de la tabla original\n",
    "datos_primarios_con_encabezados = pd.read_csv('Audiobooks_data_con_encabezados.csv', sep = ';')\n",
    "datos_primarios_con_encabezados.head()"
   ]
  },
  {
   "cell_type": "code",
   "execution_count": 3,
   "metadata": {},
   "outputs": [],
   "source": [
    "# De los datos primarios podemos obtener nuestros datos de input al eliminar las columnas de 'ID' y 'Targets'\n",
    "# Asi generamos nuestra tabla de inputs\n",
    "inputs_sin_escalar_todos = datos_primarios[:,1:-1]"
   ]
  },
  {
   "cell_type": "code",
   "execution_count": 4,
   "metadata": {},
   "outputs": [],
   "source": [
    "# De los datos primarios podemos obtener los targets que se encuentran en la última columna\n",
    "targets_todos = datos_primarios[:,-1]"
   ]
  },
  {
   "cell_type": "markdown",
   "metadata": {},
   "source": [
    "### Balanceando el dataset\n",
    "\n",
    "Balancear el dataset significa contar con una cantidad equitativa de muestras cuyos Targets sean 50% valor 1 y 50% valor 0.\n",
    "De esta forma el modelo puede aprender a diferenciar de mejor forma cada caso."
   ]
  },
  {
   "cell_type": "code",
   "execution_count": 5,
   "metadata": {},
   "outputs": [],
   "source": [
    "# Contamos cuantos targets del dataset tienen valor 1.\n",
    "targets_valor_uno = int(np.sum(targets_todos))\n",
    "\n",
    "# Establecemos un contador para Targets con valor 0\n",
    "targets_valor_cero = 0 \n",
    "\n",
    "# Como queremos crear un dataset balanceado, tenemos que remover algunas filas\n",
    "indices_a_remover = []\n",
    "\n",
    "# Recorreremos el dataset con un ciclo for\n",
    "# Contamos el numero de Targets igual a 0\n",
    "# Una vez tengamos tantos 0s como 1s, marcamos los indices donde los targets son 0\n",
    "for i in range(targets_todos.shape[0]):\n",
    "    if targets_todos[i] == 0:\n",
    "        targets_valor_cero += 1\n",
    "        if targets_valor_cero > targets_valor_uno:\n",
    "            indices_a_remover.append(i)\n",
    "\n",
    "# Creamos 2 nuevas variables, una que contendrá los inputs y otra que contendrá los targets\n",
    "# Borramos todos los índices que marcamos para remover en el ciclo for\n",
    "inputs_sin_escalar_balanceados = np.delete(inputs_sin_escalar_todos, indices_a_remover, axis=0)\n",
    "targets_balanceados = np.delete(targets_todos, indices_a_remover, axis=0)"
   ]
  },
  {
   "cell_type": "markdown",
   "metadata": {},
   "source": [
    "### Estandarizamos los inputs"
   ]
  },
  {
   "cell_type": "code",
   "execution_count": 6,
   "metadata": {},
   "outputs": [],
   "source": [
    "inputs_escalados = preprocessing.scale(inputs_sin_escalar_balanceados)"
   ]
  },
  {
   "cell_type": "markdown",
   "metadata": {},
   "source": [
    "### Mezclando los datos"
   ]
  },
  {
   "cell_type": "code",
   "execution_count": 7,
   "metadata": {},
   "outputs": [],
   "source": [
    "# Mezclaremos los datos, puestos que estos fueron recogidos en orden de fecha\n",
    "indices_mezclados = np.arange(inputs_escalados.shape[0])\n",
    "np.random.shuffle(indices_mezclados)\n",
    "\n",
    "# Usamos los índices mezclados para mezclar los inputs y targets de manera independiente\n",
    "inputs_mezclados = inputs_escalados[indices_mezclados]\n",
    "targets_mezclados = targets_balanceados[indices_mezclados]"
   ]
  },
  {
   "cell_type": "markdown",
   "metadata": {},
   "source": [
    "### Dividiento el dataset en entrenamiento, validación y testeo"
   ]
  },
  {
   "cell_type": "code",
   "execution_count": 8,
   "metadata": {
    "scrolled": true
   },
   "outputs": [
    {
     "data": {
      "text/html": [
       "<div>\n",
       "<style scoped>\n",
       "    .dataframe tbody tr th:only-of-type {\n",
       "        vertical-align: middle;\n",
       "    }\n",
       "\n",
       "    .dataframe tbody tr th {\n",
       "        vertical-align: top;\n",
       "    }\n",
       "\n",
       "    .dataframe thead th {\n",
       "        text-align: right;\n",
       "    }\n",
       "</style>\n",
       "<table border=\"1\" class=\"dataframe\">\n",
       "  <thead>\n",
       "    <tr style=\"text-align: right;\">\n",
       "      <th></th>\n",
       "      <th>Suma targets valor 1</th>\n",
       "      <th>Número muestras</th>\n",
       "      <th>Proporcion de targets valor 1</th>\n",
       "    </tr>\n",
       "  </thead>\n",
       "  <tbody>\n",
       "    <tr>\n",
       "      <th>Entrenamiento</th>\n",
       "      <td>1807.0</td>\n",
       "      <td>3579.0</td>\n",
       "      <td>0.504890</td>\n",
       "    </tr>\n",
       "    <tr>\n",
       "      <th>Validación</th>\n",
       "      <td>216.0</td>\n",
       "      <td>447.0</td>\n",
       "      <td>0.483221</td>\n",
       "    </tr>\n",
       "    <tr>\n",
       "      <th>Test</th>\n",
       "      <td>214.0</td>\n",
       "      <td>448.0</td>\n",
       "      <td>0.477679</td>\n",
       "    </tr>\n",
       "  </tbody>\n",
       "</table>\n",
       "</div>"
      ],
      "text/plain": [
       "               Suma targets valor 1  Número muestras  \\\n",
       "Entrenamiento                1807.0           3579.0   \n",
       "Validación                    216.0            447.0   \n",
       "Test                          214.0            448.0   \n",
       "\n",
       "               Proporcion de targets valor 1  \n",
       "Entrenamiento                       0.504890  \n",
       "Validación                          0.483221  \n",
       "Test                                0.477679  "
      ]
     },
     "execution_count": 8,
     "metadata": {},
     "output_type": "execute_result"
    }
   ],
   "source": [
    "# Contamos el numero total de muestras\n",
    "numero_de_muestras = inputs_mezclados.shape[0]\n",
    "\n",
    "# Queremos repartir los datos de la forma 80% datos entrenamiento, 10% datos de validación y 10% datos de testeo\n",
    "\n",
    "numero_muestras_entrenamiento = int(0.8 * numero_de_muestras)\n",
    "numero_muestras_validacion = int(0.1 * numero_de_muestras)\n",
    "\n",
    "# El dataset de testeo contiene todos los datos restantes\n",
    "numero_muestras_test = numero_de_muestras - numero_muestras_entrenamiento - numero_muestras_validacion\n",
    "\n",
    "# Creamos inputs y targets de entrenamiento\n",
    "inputs_entrenamiento = inputs_mezclados[:numero_muestras_entrenamiento]\n",
    "targets_entrenamiento = targets_mezclados[:numero_muestras_entrenamiento]\n",
    "\n",
    "# Creamos inputs y targets de validacion\n",
    "inputs_validacion = inputs_mezclados[numero_muestras_entrenamiento:numero_muestras_entrenamiento+numero_muestras_validacion]\n",
    "targets_validacion = targets_mezclados[numero_muestras_entrenamiento:numero_muestras_entrenamiento+numero_muestras_validacion]\n",
    "\n",
    "# Creamos inputs y targets de testeo\n",
    "test_inputs = inputs_mezclados[numero_muestras_entrenamiento+numero_muestras_validacion:]\n",
    "test_targets = targets_mezclados[numero_muestras_entrenamiento+numero_muestras_validacion:]\n",
    "\n",
    "# Comprobamos si los datos de entrenamiento, validacion, y testeo estan balanceados\n",
    "\n",
    "a= pd.DataFrame(np.array([[np.sum(targets_entrenamiento),\n",
    "                           numero_muestras_entrenamiento,\n",
    "                           np.sum(targets_entrenamiento) / numero_muestras_entrenamiento],\n",
    "                          [np.sum(targets_validacion),\n",
    "                           numero_muestras_validacion,\n",
    "                           np.sum(targets_validacion) / numero_muestras_validacion],\n",
    "                          [np.sum(test_targets),\n",
    "                           numero_muestras_test,\n",
    "                           np.sum(test_targets) / numero_muestras_test]]),\n",
    "                   columns=['Suma targets valor 1', 'Número muestras', 'Proporcion de targets valor 1'])\n",
    "a.rename(index={0: \"Entrenamiento\", 1: \"Validación\", 2: \"Test\"})"
   ]
  },
  {
   "cell_type": "markdown",
   "metadata": {},
   "source": [
    "De la tabla se puede observar que la proporción de 1s y 0s es 50% y 50%"
   ]
  },
  {
   "cell_type": "markdown",
   "metadata": {},
   "source": [
    "### Guardamos los datos en *.npz para trabajar con tensorflow"
   ]
  },
  {
   "cell_type": "code",
   "execution_count": 9,
   "metadata": {},
   "outputs": [],
   "source": [
    "# Guardamos los datos en un formato npz para trabajarlos con Tensorflow\n",
    "\n",
    "np.savez('Audiobooks_datos_entrenamiento', inputs=inputs_entrenamiento, targets=targets_entrenamiento)\n",
    "np.savez('Audiobooks_datos_validacion', inputs=inputs_validacion, targets=targets_validacion)\n",
    "np.savez('Audiobooks_datos_test', inputs=test_inputs, targets=test_targets)"
   ]
  },
  {
   "cell_type": "code",
   "execution_count": null,
   "metadata": {},
   "outputs": [],
   "source": []
  },
  {
   "cell_type": "code",
   "execution_count": null,
   "metadata": {},
   "outputs": [],
   "source": []
  }
 ],
 "metadata": {
  "kernelspec": {
   "display_name": "Python 3",
   "language": "python",
   "name": "python3"
  },
  "language_info": {
   "codemirror_mode": {
    "name": "ipython",
    "version": 3
   },
   "file_extension": ".py",
   "mimetype": "text/x-python",
   "name": "python",
   "nbconvert_exporter": "python",
   "pygments_lexer": "ipython3",
   "version": "3.8.5"
  }
 },
 "nbformat": 4,
 "nbformat_minor": 2
}
