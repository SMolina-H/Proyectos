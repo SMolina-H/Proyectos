{
 "cells": [
  {
   "cell_type": "markdown",
   "metadata": {},
   "source": [
    "# Tienda de audiolibros"
   ]
  },
  {
   "cell_type": "markdown",
   "metadata": {},
   "source": [
    "## Problema\n",
    "\n",
    "Este problema trata sobre predecir si un cliente volverá a realizar una compra en una tienda de audiolibros en base a su comportamiento histórico con la tienda.\n",
    "\n",
    "Para lo anterior se cuenta con una base de datos que cuenta con 2 años de recolección de datos de cada cliente, y para ver si un cliente volvió a comprar en la tienda se utilizaron 6 meses adicionales de observación.\n",
    "\n",
    "La base de datos cuenta con la siguiente informacion de cada cliente:\n",
    "<ul>\n",
    "    <li>ID de cliente</li>\n",
    "<li>Suma de duración en minutos de todos sus libros</li>\n",
    "\n",
    "<li>Duracion promedio de cada libro</li>\n",
    "\n",
    "<li>Suma de dinero total pagada por todos los libros</li>\n",
    "\n",
    "<li>Precio promedio pagado por cada libro</li>\n",
    "\n",
    "<li>Review(1 si el cliente dejó review, 0 en caso contrario)</li>\n",
    "\n",
    "<li>Nota de review promedio de libros (escala de 1 al 10)</li>\n",
    "\n",
    "<li>Minutos totales escuchados</li>\n",
    "\n",
    "<li>Porcentaje completado del último libro</li>\n",
    "\n",
    "<li>Tiempo transcurrido desde la primera compra y última vez que abrió el libro</li>\n",
    "    \n",
    "<li>Target (1 si compró en los ultimos 6 meses, 0 en caso contrario) ------------ Variable a predecir</li>\n",
    " \n",
    "</ul>\n",
    "\n",
    "En este proyecto se construye un algoritmo de Machine Learning utilizando Redes Neuronales capáz de predecir si un cliente volverá a comprar durante los próximos 6 meses."
   ]
  },
  {
   "cell_type": "markdown",
   "metadata": {},
   "source": [
    "## Creando el algoritmo de Machine Learning\n",
    "\n"
   ]
  },
  {
   "cell_type": "markdown",
   "metadata": {},
   "source": [
    "### Importamos las librerías relevantes"
   ]
  },
  {
   "cell_type": "code",
   "execution_count": 1,
   "metadata": {},
   "outputs": [],
   "source": [
    "import numpy as np\n",
    "import tensorflow as tf\n",
    "from livelossplot import PlotLossesKeras\n",
    "from matplotlib import pyplot as plt"
   ]
  },
  {
   "cell_type": "markdown",
   "metadata": {},
   "source": [
    "### Datos"
   ]
  },
  {
   "cell_type": "code",
   "execution_count": 2,
   "metadata": {},
   "outputs": [],
   "source": [
    "# Creamos una variable temporal npz para posteriormente guardar los datasets de los Audiobooks\n",
    "npz = np.load('Audiobooks_datos_entrenamiento.npz')\n",
    "\n",
    "# Almacenamos los datos de entrenamiento\n",
    "inputs_entrenamiento = npz['inputs'].astype(np.float)\n",
    "targets_entrenamiento = npz['targets'].astype(np.int)\n",
    "\n",
    "# Almacenamos los datos de validación\n",
    "npz = np.load('Audiobooks_datos_validacion.npz')\n",
    "\n",
    "inputs_validacion = npz['inputs'].astype(np.float)\n",
    "targets_validacion =  npz['targets'].astype(np.int)\n",
    "\n",
    "# Almacenamos los datos de testeo\n",
    "npz = np.load('Audiobooks_datos_test.npz')\n",
    "\n",
    "inputs_test = npz['inputs'].astype(np.float)\n",
    "targets_test = npz['targets'].astype(np.int)"
   ]
  },
  {
   "cell_type": "markdown",
   "metadata": {},
   "source": [
    "### Modelo"
   ]
  },
  {
   "cell_type": "code",
   "execution_count": 3,
   "metadata": {
    "scrolled": true
   },
   "outputs": [
    {
     "name": "stdout",
     "output_type": "stream",
     "text": [
      "Epoch 1/100\n",
      "36/36 - 1s - loss: 0.6288 - accuracy: 0.6264 - val_loss: 0.5491 - val_accuracy: 0.6868\n",
      "Epoch 2/100\n",
      "36/36 - 0s - loss: 0.4821 - accuracy: 0.7639 - val_loss: 0.4700 - val_accuracy: 0.7584\n",
      "Epoch 3/100\n",
      "36/36 - 0s - loss: 0.4181 - accuracy: 0.7888 - val_loss: 0.4305 - val_accuracy: 0.7718\n",
      "Epoch 4/100\n",
      "36/36 - 0s - loss: 0.3886 - accuracy: 0.7949 - val_loss: 0.4075 - val_accuracy: 0.7897\n",
      "Epoch 5/100\n",
      "36/36 - 0s - loss: 0.3730 - accuracy: 0.8008 - val_loss: 0.4049 - val_accuracy: 0.7875\n",
      "Epoch 6/100\n",
      "36/36 - 0s - loss: 0.3609 - accuracy: 0.8061 - val_loss: 0.3935 - val_accuracy: 0.7987\n",
      "Epoch 7/100\n",
      "36/36 - 0s - loss: 0.3541 - accuracy: 0.8039 - val_loss: 0.3813 - val_accuracy: 0.8076\n",
      "Epoch 8/100\n",
      "36/36 - 0s - loss: 0.3506 - accuracy: 0.8114 - val_loss: 0.3780 - val_accuracy: 0.7696\n",
      "Epoch 9/100\n",
      "36/36 - 0s - loss: 0.3469 - accuracy: 0.8086 - val_loss: 0.3711 - val_accuracy: 0.7919\n",
      "Epoch 10/100\n",
      "36/36 - 0s - loss: 0.3417 - accuracy: 0.8167 - val_loss: 0.3734 - val_accuracy: 0.8009\n",
      "Epoch 11/100\n",
      "36/36 - 0s - loss: 0.3377 - accuracy: 0.8181 - val_loss: 0.3656 - val_accuracy: 0.7808\n",
      "Epoch 12/100\n",
      "36/36 - 0s - loss: 0.3382 - accuracy: 0.8114 - val_loss: 0.3658 - val_accuracy: 0.7852\n",
      "Epoch 13/100\n",
      "36/36 - 0s - loss: 0.3317 - accuracy: 0.8206 - val_loss: 0.3676 - val_accuracy: 0.8121\n"
     ]
    },
    {
     "data": {
      "text/plain": [
       "<tensorflow.python.keras.callbacks.History at 0x24db5f17e80>"
      ]
     },
     "execution_count": 3,
     "metadata": {},
     "output_type": "execute_result"
    }
   ],
   "source": [
    "# Establecemos el tamaño de los inputs y outputs\n",
    "tamaño_input = 10\n",
    "tamaño_output = 2\n",
    "\n",
    "# Establecemos el tamaño de las capas ocultas, en este caso, todas de mismo tamaño\n",
    "tamaño_capa_oculta = 50\n",
    "    \n",
    "# Definimos el modelo con 2 capas ocultas de tamaño 50 y una capa de salida de tamaño 2\n",
    "model = tf.keras.Sequential([\n",
    "    tf.keras.layers.Dense(tamaño_capa_oculta, activation='relu'), # 1era capa oculta\n",
    "    tf.keras.layers.Dense(tamaño_capa_oculta, activation='relu'), # 2da capa oculta\n",
    "    tf.keras.layers.Dense(tamaño_output, activation='softmax') # capa de salida\n",
    "])\n",
    "\n",
    "\n",
    "# Definimos el tipo de optimizador, la función de pérdida y métricas de interés en cada iteración\n",
    "model.compile(optimizer='adam', loss='sparse_categorical_crossentropy', metrics=['accuracy'])\n",
    "\n",
    "# Definimos el tamaño del batch\n",
    "tamaño_batch = 100\n",
    "\n",
    "# Definimos un numero maximo de epochs\n",
    "max_epochs = 100\n",
    "\n",
    "# Establecemos un mecanismo de detención temprana ante un aumento en la funcion\n",
    "# de perdida en los datos de validación para evitar overfitting, en este caso,\n",
    "# solo se dejan pasar 2 aumentos en la funcion de pédida de los datos de validación\n",
    "early_stopping = tf.keras.callbacks.EarlyStopping(patience=2)\n",
    "#grafico = PlotLossesKeras()\n",
    "\n",
    "# Generamos el modelo\n",
    "model.fit(inputs_entrenamiento,\n",
    "          targets_entrenamiento,\n",
    "          batch_size=tamaño_batch,\n",
    "          epochs=max_epochs,\n",
    "          callbacks=[early_stopping], # detención temprana\n",
    "          validation_data=(inputs_validacion, targets_validacion),\n",
    "          verbose = 2\n",
    "          )"
   ]
  },
  {
   "cell_type": "markdown",
   "metadata": {},
   "source": [
    "## Representación visual de la precisión y la pérdida del modelo"
   ]
  },
  {
   "cell_type": "code",
   "execution_count": 4,
   "metadata": {},
   "outputs": [
    {
     "data": {
      "image/png": "[encoded data removed]",
      "text/plain": [
       "<Figure size 432x288 with 1 Axes>"
      ]
     },
     "metadata": {
      "needs_background": "light"
     },
     "output_type": "display_data"
    }
   ],
   "source": [
    "plt.plot(model.history.history['accuracy'])\n",
    "plt.plot(model.history.history['val_accuracy'])\n",
    "plt.title('Precisión del modelo')\n",
    "plt.ylabel('Precisión')\n",
    "plt.xlabel('Epoch')\n",
    "plt.legend(['Entrenamiento','Validación'], loc='upper left')\n",
    "plt.savefig('Precision modelo.png', bbox_inches = \"tight\")\n",
    "plt.show()"
   ]
  },
  {
   "cell_type": "code",
   "execution_count": 5,
   "metadata": {
    "scrolled": true
   },
   "outputs": [
    {
     "data": {
      "image/png": "[encoded data removed]",
      "text/plain": [
       "<Figure size 432x288 with 1 Axes>"
      ]
     },
     "metadata": {
      "needs_background": "light"
     },
     "output_type": "display_data"
    }
   ],
   "source": [
    "plt.plot(model.history.history['loss'])\n",
    "plt.plot(model.history.history['val_loss'])\n",
    "plt.title('Pérdida del modelo')\n",
    "plt.ylabel('Pérdida')\n",
    "plt.xlabel('Epoch')\n",
    "plt.legend(['Entrenamiento','Validación'], loc='upper left')\n",
    "plt.savefig('Pérdida modelo.png', bbox_inches = \"tight\")\n",
    "plt.show()"
   ]
  },
  {
   "cell_type": "markdown",
   "metadata": {},
   "source": [
    "## Testeando el modelo\n",
    "\n",
    "Después de haber entrenado el modelo, es tiempo de testear su precisión con datos que el modelo nunca ha visto.\n",
    "\n",
    "Para esto utilizamos los datos de testeo que definimos más arriba."
   ]
  },
  {
   "cell_type": "code",
   "execution_count": 6,
   "metadata": {},
   "outputs": [
    {
     "name": "stdout",
     "output_type": "stream",
     "text": [
      "14/14 [==============================] - 0s 1ms/step - loss: 0.3533 - accuracy: 0.7879\n"
     ]
    }
   ],
   "source": [
    "perdida_test, precision_test = model.evaluate(inputs_test, targets_test)"
   ]
  },
  {
   "cell_type": "code",
   "execution_count": 7,
   "metadata": {},
   "outputs": [
    {
     "name": "stdout",
     "output_type": "stream",
     "text": [
      "\n",
      "Pérdida del test: 0.35. Precision del test: 78.79%\n"
     ]
    }
   ],
   "source": [
    "print('\\nPérdida del test: {0:.2f}. Precision del test: {1:.2f}%'.format(perdida_test, precision_test*100.))"
   ]
  },
  {
   "cell_type": "markdown",
   "metadata": {},
   "source": [
    "Finalmente, la precisión del modelo es cercano a un 80%.\n",
    "\n",
    "Aún existe un margen para mejorar la precisión del modelo, sin embargo, para propósitos de demostración, este resultado es suficiente."
   ]
  }
 ],
 "metadata": {
  "kernelspec": {
   "display_name": "Python 3",
   "language": "python",
   "name": "python3"
  },
  "language_info": {
   "codemirror_mode": {
    "name": "ipython",
    "version": 3
   },
   "file_extension": ".py",
   "mimetype": "text/x-python",
   "name": "python",
   "nbconvert_exporter": "python",
   "pygments_lexer": "ipython3",
   "version": "3.8.5"
  }
 },
 "nbformat": 4,
 "nbformat_minor": 2
}
